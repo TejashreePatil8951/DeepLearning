{
  "nbformat": 4,
  "nbformat_minor": 0,
  "metadata": {
    "colab": {
      "provenance": [],
      "gpuType": "T4",
      "authorship_tag": "ABX9TyOM/qqUGiLkPCzIqWoixcga",
      "include_colab_link": true
    },
    "kernelspec": {
      "name": "python3",
      "display_name": "Python 3"
    },
    "language_info": {
      "name": "python"
    },
    "accelerator": "GPU"
  },
  "cells": [
    {
      "cell_type": "markdown",
      "metadata": {
        "id": "view-in-github",
        "colab_type": "text"
      },
      "source": [
        "<a href=\"https://colab.research.google.com/github/TejashreePatil8951/DeepLearning/blob/main/Handwitten_Digit_Classificatiion_Poject.ipynb\" target=\"_parent\"><img src=\"https://colab.research.google.com/assets/colab-badge.svg\" alt=\"Open In Colab\"/></a>"
      ]
    },
    {
      "cell_type": "markdown",
      "source": [
        "**Handwritten Digit Classification Project**"
      ],
      "metadata": {
        "id": "C7S0hb7IvITp"
      }
    },
    {
      "cell_type": "code",
      "execution_count": 1,
      "metadata": {
        "id": "dnxmLCWtvAGB"
      },
      "outputs": [],
      "source": [
        "from warnings import filterwarnings\n",
        "filterwarnings('ignore')"
      ]
    },
    {
      "cell_type": "markdown",
      "source": [
        "Load MNIST datset"
      ],
      "metadata": {
        "id": "lLM17xG_vhQo"
      }
    },
    {
      "cell_type": "code",
      "source": [
        "from keras.datasets import mnist\n",
        "(xtrain, ytrain),(xtest, ytest) = mnist.load_data()"
      ],
      "metadata": {
        "colab": {
          "base_uri": "https://localhost:8080/"
        },
        "id": "Oa-BYy4jvZQS",
        "outputId": "71ca07d2-52be-4bb6-fd0f-7d73de6af6e2"
      },
      "execution_count": 4,
      "outputs": [
        {
          "output_type": "stream",
          "name": "stdout",
          "text": [
            "Downloading data from https://storage.googleapis.com/tensorflow/tf-keras-datasets/mnist.npz\n",
            "11490434/11490434 [==============================] - 1s 0us/step\n"
          ]
        }
      ]
    },
    {
      "cell_type": "code",
      "source": [
        "xtrain.shape"
      ],
      "metadata": {
        "colab": {
          "base_uri": "https://localhost:8080/"
        },
        "id": "tYNFA4_Avz36",
        "outputId": "3a1a97e5-e4a8-40a5-e0da-129850b55eba"
      },
      "execution_count": null,
      "outputs": [
        {
          "output_type": "execute_result",
          "data": {
            "text/plain": [
              "(60000, 28, 28)"
            ]
          },
          "metadata": {},
          "execution_count": 6
        }
      ]
    },
    {
      "cell_type": "code",
      "source": [
        "xtrain"
      ],
      "metadata": {
        "colab": {
          "base_uri": "https://localhost:8080/"
        },
        "id": "5CWlmIr_wDFj",
        "outputId": "cfd1361f-f272-43e3-df42-03e0c79dab46"
      },
      "execution_count": 5,
      "outputs": [
        {
          "output_type": "execute_result",
          "data": {
            "text/plain": [
              "array([[[0, 0, 0, ..., 0, 0, 0],\n",
              "        [0, 0, 0, ..., 0, 0, 0],\n",
              "        [0, 0, 0, ..., 0, 0, 0],\n",
              "        ...,\n",
              "        [0, 0, 0, ..., 0, 0, 0],\n",
              "        [0, 0, 0, ..., 0, 0, 0],\n",
              "        [0, 0, 0, ..., 0, 0, 0]],\n",
              "\n",
              "       [[0, 0, 0, ..., 0, 0, 0],\n",
              "        [0, 0, 0, ..., 0, 0, 0],\n",
              "        [0, 0, 0, ..., 0, 0, 0],\n",
              "        ...,\n",
              "        [0, 0, 0, ..., 0, 0, 0],\n",
              "        [0, 0, 0, ..., 0, 0, 0],\n",
              "        [0, 0, 0, ..., 0, 0, 0]],\n",
              "\n",
              "       [[0, 0, 0, ..., 0, 0, 0],\n",
              "        [0, 0, 0, ..., 0, 0, 0],\n",
              "        [0, 0, 0, ..., 0, 0, 0],\n",
              "        ...,\n",
              "        [0, 0, 0, ..., 0, 0, 0],\n",
              "        [0, 0, 0, ..., 0, 0, 0],\n",
              "        [0, 0, 0, ..., 0, 0, 0]],\n",
              "\n",
              "       ...,\n",
              "\n",
              "       [[0, 0, 0, ..., 0, 0, 0],\n",
              "        [0, 0, 0, ..., 0, 0, 0],\n",
              "        [0, 0, 0, ..., 0, 0, 0],\n",
              "        ...,\n",
              "        [0, 0, 0, ..., 0, 0, 0],\n",
              "        [0, 0, 0, ..., 0, 0, 0],\n",
              "        [0, 0, 0, ..., 0, 0, 0]],\n",
              "\n",
              "       [[0, 0, 0, ..., 0, 0, 0],\n",
              "        [0, 0, 0, ..., 0, 0, 0],\n",
              "        [0, 0, 0, ..., 0, 0, 0],\n",
              "        ...,\n",
              "        [0, 0, 0, ..., 0, 0, 0],\n",
              "        [0, 0, 0, ..., 0, 0, 0],\n",
              "        [0, 0, 0, ..., 0, 0, 0]],\n",
              "\n",
              "       [[0, 0, 0, ..., 0, 0, 0],\n",
              "        [0, 0, 0, ..., 0, 0, 0],\n",
              "        [0, 0, 0, ..., 0, 0, 0],\n",
              "        ...,\n",
              "        [0, 0, 0, ..., 0, 0, 0],\n",
              "        [0, 0, 0, ..., 0, 0, 0],\n",
              "        [0, 0, 0, ..., 0, 0, 0]]], dtype=uint8)"
            ]
          },
          "metadata": {},
          "execution_count": 5
        }
      ]
    },
    {
      "cell_type": "code",
      "source": [
        "ytrain"
      ],
      "metadata": {
        "colab": {
          "base_uri": "https://localhost:8080/"
        },
        "id": "ePCe1DR6wFlX",
        "outputId": "757b8711-2cc0-406a-ac6c-ee0e0f52aa26"
      },
      "execution_count": 6,
      "outputs": [
        {
          "output_type": "execute_result",
          "data": {
            "text/plain": [
              "array([5, 0, 4, ..., 5, 6, 8], dtype=uint8)"
            ]
          },
          "metadata": {},
          "execution_count": 6
        }
      ]
    },
    {
      "cell_type": "code",
      "source": [
        "import matplotlib.pyplot as plt\n",
        "plt.imshow(xtrain[0], cmap='gray')"
      ],
      "metadata": {
        "colab": {
          "base_uri": "https://localhost:8080/",
          "height": 447
        },
        "id": "yBDNsDl-wI9i",
        "outputId": "1847dbe6-9c6e-47cc-82b8-b10c6175b696"
      },
      "execution_count": 7,
      "outputs": [
        {
          "output_type": "execute_result",
          "data": {
            "text/plain": [
              "<matplotlib.image.AxesImage at 0x7e8ad040e0b0>"
            ]
          },
          "metadata": {},
          "execution_count": 7
        },
        {
          "output_type": "display_data",
          "data": {
            "text/plain": [
              "<Figure size 640x480 with 1 Axes>"
            ],
            "image/png": "[encoded data removed]"
          },
          "metadata": {}
        }
      ]
    },
    {
      "cell_type": "code",
      "source": [
        "xtest.shape"
      ],
      "metadata": {
        "colab": {
          "base_uri": "https://localhost:8080/"
        },
        "id": "pmbVi253wTmZ",
        "outputId": "a082f499-92e9-41a1-bf16-6251d1e3e674"
      },
      "execution_count": 8,
      "outputs": [
        {
          "output_type": "execute_result",
          "data": {
            "text/plain": [
              "(10000, 28, 28)"
            ]
          },
          "metadata": {},
          "execution_count": 8
        }
      ]
    },
    {
      "cell_type": "code",
      "source": [
        "ytest"
      ],
      "metadata": {
        "colab": {
          "base_uri": "https://localhost:8080/"
        },
        "id": "2sjGUw0VwWNr",
        "outputId": "d9fb1f81-c3cf-4979-b979-f79a1a2cee08"
      },
      "execution_count": 9,
      "outputs": [
        {
          "output_type": "execute_result",
          "data": {
            "text/plain": [
              "array([7, 2, 1, ..., 4, 5, 6], dtype=uint8)"
            ]
          },
          "metadata": {},
          "execution_count": 9
        }
      ]
    },
    {
      "cell_type": "code",
      "source": [
        "plt.imshow(xtest[0], cmap='gray')"
      ],
      "metadata": {
        "colab": {
          "base_uri": "https://localhost:8080/",
          "height": 447
        },
        "id": "cBnu9TjiwX0c",
        "outputId": "f5dbf9e6-30f9-4609-b23a-d7a6de984c40"
      },
      "execution_count": 10,
      "outputs": [
        {
          "output_type": "execute_result",
          "data": {
            "text/plain": [
              "<matplotlib.image.AxesImage at 0x7e8acaeb3880>"
            ]
          },
          "metadata": {},
          "execution_count": 10
        },
        {
          "output_type": "display_data",
          "data": {
            "text/plain": [
              "<Figure size 640x480 with 1 Axes>"
            ],
            "image/png": "[encoded data removed]"
          },
          "metadata": {}
        }
      ]
    },
    {
      "cell_type": "markdown",
      "source": [
        "Displaying first 9 images from train data"
      ],
      "metadata": {
        "id": "D_A9wATQwf8e"
      }
    },
    {
      "cell_type": "code",
      "source": [
        "plt.figure(figsize=(10,10))\n",
        "for i in range(9):\n",
        "  plt.subplot(3, 3, i+1)\n",
        "  plt.imshow(xtrain[i] , cmap='gray')\n",
        "  plt.title(f\"Label : {ytrain[i]}\")"
      ],
      "metadata": {
        "colab": {
          "base_uri": "https://localhost:8080/",
          "height": 674
        },
        "id": "PMTCad-lwepF",
        "outputId": "919997e1-2a49-43b1-87c5-a6a6334d0089"
      },
      "execution_count": 11,
      "outputs": [
        {
          "output_type": "display_data",
          "data": {
            "text/plain": [
              "<Figure size 1000x1000 with 9 Axes>"
            ],
            "image/png": "[encoded data removed]"
          },
          "metadata": {}
        }
      ]
    },
    {
      "cell_type": "code",
      "source": [
        "import numpy as np\n",
        "np.unique(ytrain)"
      ],
      "metadata": {
        "colab": {
          "base_uri": "https://localhost:8080/"
        },
        "id": "eW421ZmRxA24",
        "outputId": "7283ca22-05f7-413c-abaa-57ba2d86091f"
      },
      "execution_count": 12,
      "outputs": [
        {
          "output_type": "execute_result",
          "data": {
            "text/plain": [
              "array([0, 1, 2, 3, 4, 5, 6, 7, 8, 9], dtype=uint8)"
            ]
          },
          "metadata": {},
          "execution_count": 12
        }
      ]
    },
    {
      "cell_type": "code",
      "source": [
        "len(np.unique(ytrain))"
      ],
      "metadata": {
        "colab": {
          "base_uri": "https://localhost:8080/"
        },
        "id": "XcAnbbiaxcl8",
        "outputId": "8c540f25-89fc-4fbf-ab81-e95188432add"
      },
      "execution_count": 13,
      "outputs": [
        {
          "output_type": "execute_result",
          "data": {
            "text/plain": [
              "10"
            ]
          },
          "metadata": {},
          "execution_count": 13
        }
      ]
    },
    {
      "cell_type": "markdown",
      "source": [
        "This is a multiclass classification problem"
      ],
      "metadata": {
        "id": "hngruaNaxiaa"
      }
    },
    {
      "cell_type": "markdown",
      "source": [
        "Preprocess image data"
      ],
      "metadata": {
        "id": "UCcBOWTjxoh9"
      }
    },
    {
      "cell_type": "code",
      "source": [
        "xtrain_scl= xtrain.astype(\"float32\")/255\n",
        "xtest_scl = xtest.astype(\"float32\")/255"
      ],
      "metadata": {
        "id": "XbY6MkomxhKw"
      },
      "execution_count": 14,
      "outputs": []
    },
    {
      "cell_type": "code",
      "source": [
        "xtrain_scl[0]"
      ],
      "metadata": {
        "colab": {
          "base_uri": "https://localhost:8080/"
        },
        "id": "QKmLd_zGx04x",
        "outputId": "4ca72d1f-0394-459e-dbd8-a1c2274abfd6"
      },
      "execution_count": 15,
      "outputs": [
        {
          "output_type": "execute_result",
          "data": {
            "text/plain": [
              "array([[0.        , 0.        , 0.        , 0.        , 0.        ,\n",
              "        0.        , 0.        , 0.        , 0.        , 0.        ,\n",
              "        0.        , 0.        , 0.        , 0.        , 0.        ,\n",
              "        0.        , 0.        , 0.        , 0.        , 0.        ,\n",
              "        0.        , 0.        , 0.        , 0.        , 0.        ,\n",
              "        0.        , 0.        , 0.        ],\n",
              "       [0.        , 0.        , 0.        , 0.        , 0.        ,\n",
              "        0.        , 0.        , 0.        , 0.        , 0.        ,\n",
              "        0.        , 0.        , 0.        , 0.        , 0.        ,\n",
              "        0.        , 0.        , 0.        , 0.        , 0.        ,\n",
              "        0.        , 0.        , 0.        , 0.        , 0.        ,\n",
              "        0.        , 0.        , 0.        ],\n",
              "       [0.        , 0.        , 0.        , 0.        , 0.        ,\n",
              "        0.        , 0.        , 0.        , 0.        , 0.        ,\n",
              "        0.        , 0.        , 0.        , 0.        , 0.        ,\n",
              "        0.        , 0.        , 0.        , 0.        , 0.        ,\n",
              "        0.        , 0.        , 0.        , 0.        , 0.        ,\n",
              "        0.        , 0.        , 0.        ],\n",
              "       [0.        , 0.        , 0.        , 0.        , 0.        ,\n",
              "        0.        , 0.        , 0.        , 0.        , 0.        ,\n",
              "        0.        , 0.        , 0.        , 0.        , 0.        ,\n",
              "        0.        , 0.        , 0.        , 0.        , 0.        ,\n",
              "        0.        , 0.        , 0.        , 0.        , 0.        ,\n",
              "        0.        , 0.        , 0.        ],\n",
              "       [0.        , 0.        , 0.        , 0.        , 0.        ,\n",
              "        0.        , 0.        , 0.        , 0.        , 0.        ,\n",
              "        0.        , 0.        , 0.        , 0.        , 0.        ,\n",
              "        0.        , 0.        , 0.        , 0.        , 0.        ,\n",
              "        0.        , 0.        , 0.        , 0.        , 0.        ,\n",
              "        0.        , 0.        , 0.        ],\n",
              "       [0.        , 0.        , 0.        , 0.        , 0.        ,\n",
              "        0.        , 0.        , 0.        , 0.        , 0.        ,\n",
              "        0.        , 0.        , 0.01176471, 0.07058824, 0.07058824,\n",
              "        0.07058824, 0.49411765, 0.53333336, 0.6862745 , 0.10196079,\n",
              "        0.6509804 , 1.        , 0.96862745, 0.49803922, 0.        ,\n",
              "        0.        , 0.        , 0.        ],\n",
              "       [0.        , 0.        , 0.        , 0.        , 0.        ,\n",
              "        0.        , 0.        , 0.        , 0.11764706, 0.14117648,\n",
              "        0.36862746, 0.6039216 , 0.6666667 , 0.99215686, 0.99215686,\n",
              "        0.99215686, 0.99215686, 0.99215686, 0.88235295, 0.6745098 ,\n",
              "        0.99215686, 0.9490196 , 0.7647059 , 0.2509804 , 0.        ,\n",
              "        0.        , 0.        , 0.        ],\n",
              "       [0.        , 0.        , 0.        , 0.        , 0.        ,\n",
              "        0.        , 0.        , 0.19215687, 0.93333334, 0.99215686,\n",
              "        0.99215686, 0.99215686, 0.99215686, 0.99215686, 0.99215686,\n",
              "        0.99215686, 0.99215686, 0.9843137 , 0.3647059 , 0.32156864,\n",
              "        0.32156864, 0.21960784, 0.15294118, 0.        , 0.        ,\n",
              "        0.        , 0.        , 0.        ],\n",
              "       [0.        , 0.        , 0.        , 0.        , 0.        ,\n",
              "        0.        , 0.        , 0.07058824, 0.85882354, 0.99215686,\n",
              "        0.99215686, 0.99215686, 0.99215686, 0.99215686, 0.7764706 ,\n",
              "        0.7137255 , 0.96862745, 0.94509804, 0.        , 0.        ,\n",
              "        0.        , 0.        , 0.        , 0.        , 0.        ,\n",
              "        0.        , 0.        , 0.        ],\n",
              "       [0.        , 0.        , 0.        , 0.        , 0.        ,\n",
              "        0.        , 0.        , 0.        , 0.3137255 , 0.6117647 ,\n",
              "        0.41960785, 0.99215686, 0.99215686, 0.8039216 , 0.04313726,\n",
              "        0.        , 0.16862746, 0.6039216 , 0.        , 0.        ,\n",
              "        0.        , 0.        , 0.        , 0.        , 0.        ,\n",
              "        0.        , 0.        , 0.        ],\n",
              "       [0.        , 0.        , 0.        , 0.        , 0.        ,\n",
              "        0.        , 0.        , 0.        , 0.        , 0.05490196,\n",
              "        0.00392157, 0.6039216 , 0.99215686, 0.3529412 , 0.        ,\n",
              "        0.        , 0.        , 0.        , 0.        , 0.        ,\n",
              "        0.        , 0.        , 0.        , 0.        , 0.        ,\n",
              "        0.        , 0.        , 0.        ],\n",
              "       [0.        , 0.        , 0.        , 0.        , 0.        ,\n",
              "        0.        , 0.        , 0.        , 0.        , 0.        ,\n",
              "        0.        , 0.54509807, 0.99215686, 0.74509805, 0.00784314,\n",
              "        0.        , 0.        , 0.        , 0.        , 0.        ,\n",
              "        0.        , 0.        , 0.        , 0.        , 0.        ,\n",
              "        0.        , 0.        , 0.        ],\n",
              "       [0.        , 0.        , 0.        , 0.        , 0.        ,\n",
              "        0.        , 0.        , 0.        , 0.        , 0.        ,\n",
              "        0.        , 0.04313726, 0.74509805, 0.99215686, 0.27450982,\n",
              "        0.        , 0.        , 0.        , 0.        , 0.        ,\n",
              "        0.        , 0.        , 0.        , 0.        , 0.        ,\n",
              "        0.        , 0.        , 0.        ],\n",
              "       [0.        , 0.        , 0.        , 0.        , 0.        ,\n",
              "        0.        , 0.        , 0.        , 0.        , 0.        ,\n",
              "        0.        , 0.        , 0.13725491, 0.94509804, 0.88235295,\n",
              "        0.627451  , 0.42352942, 0.00392157, 0.        , 0.        ,\n",
              "        0.        , 0.        , 0.        , 0.        , 0.        ,\n",
              "        0.        , 0.        , 0.        ],\n",
              "       [0.        , 0.        , 0.        , 0.        , 0.        ,\n",
              "        0.        , 0.        , 0.        , 0.        , 0.        ,\n",
              "        0.        , 0.        , 0.        , 0.31764707, 0.9411765 ,\n",
              "        0.99215686, 0.99215686, 0.46666667, 0.09803922, 0.        ,\n",
              "        0.        , 0.        , 0.        , 0.        , 0.        ,\n",
              "        0.        , 0.        , 0.        ],\n",
              "       [0.        , 0.        , 0.        , 0.        , 0.        ,\n",
              "        0.        , 0.        , 0.        , 0.        , 0.        ,\n",
              "        0.        , 0.        , 0.        , 0.        , 0.1764706 ,\n",
              "        0.7294118 , 0.99215686, 0.99215686, 0.5882353 , 0.10588235,\n",
              "        0.        , 0.        , 0.        , 0.        , 0.        ,\n",
              "        0.        , 0.        , 0.        ],\n",
              "       [0.        , 0.        , 0.        , 0.        , 0.        ,\n",
              "        0.        , 0.        , 0.        , 0.        , 0.        ,\n",
              "        0.        , 0.        , 0.        , 0.        , 0.        ,\n",
              "        0.0627451 , 0.3647059 , 0.9882353 , 0.99215686, 0.73333335,\n",
              "        0.        , 0.        , 0.        , 0.        , 0.        ,\n",
              "        0.        , 0.        , 0.        ],\n",
              "       [0.        , 0.        , 0.        , 0.        , 0.        ,\n",
              "        0.        , 0.        , 0.        , 0.        , 0.        ,\n",
              "        0.        , 0.        , 0.        , 0.        , 0.        ,\n",
              "        0.        , 0.        , 0.9764706 , 0.99215686, 0.9764706 ,\n",
              "        0.2509804 , 0.        , 0.        , 0.        , 0.        ,\n",
              "        0.        , 0.        , 0.        ],\n",
              "       [0.        , 0.        , 0.        , 0.        , 0.        ,\n",
              "        0.        , 0.        , 0.        , 0.        , 0.        ,\n",
              "        0.        , 0.        , 0.        , 0.        , 0.18039216,\n",
              "        0.50980395, 0.7176471 , 0.99215686, 0.99215686, 0.8117647 ,\n",
              "        0.00784314, 0.        , 0.        , 0.        , 0.        ,\n",
              "        0.        , 0.        , 0.        ],\n",
              "       [0.        , 0.        , 0.        , 0.        , 0.        ,\n",
              "        0.        , 0.        , 0.        , 0.        , 0.        ,\n",
              "        0.        , 0.        , 0.15294118, 0.5803922 , 0.8980392 ,\n",
              "        0.99215686, 0.99215686, 0.99215686, 0.98039216, 0.7137255 ,\n",
              "        0.        , 0.        , 0.        , 0.        , 0.        ,\n",
              "        0.        , 0.        , 0.        ],\n",
              "       [0.        , 0.        , 0.        , 0.        , 0.        ,\n",
              "        0.        , 0.        , 0.        , 0.        , 0.        ,\n",
              "        0.09411765, 0.44705883, 0.8666667 , 0.99215686, 0.99215686,\n",
              "        0.99215686, 0.99215686, 0.7882353 , 0.30588236, 0.        ,\n",
              "        0.        , 0.        , 0.        , 0.        , 0.        ,\n",
              "        0.        , 0.        , 0.        ],\n",
              "       [0.        , 0.        , 0.        , 0.        , 0.        ,\n",
              "        0.        , 0.        , 0.        , 0.09019608, 0.25882354,\n",
              "        0.8352941 , 0.99215686, 0.99215686, 0.99215686, 0.99215686,\n",
              "        0.7764706 , 0.31764707, 0.00784314, 0.        , 0.        ,\n",
              "        0.        , 0.        , 0.        , 0.        , 0.        ,\n",
              "        0.        , 0.        , 0.        ],\n",
              "       [0.        , 0.        , 0.        , 0.        , 0.        ,\n",
              "        0.        , 0.07058824, 0.67058825, 0.85882354, 0.99215686,\n",
              "        0.99215686, 0.99215686, 0.99215686, 0.7647059 , 0.3137255 ,\n",
              "        0.03529412, 0.        , 0.        , 0.        , 0.        ,\n",
              "        0.        , 0.        , 0.        , 0.        , 0.        ,\n",
              "        0.        , 0.        , 0.        ],\n",
              "       [0.        , 0.        , 0.        , 0.        , 0.21568628,\n",
              "        0.6745098 , 0.8862745 , 0.99215686, 0.99215686, 0.99215686,\n",
              "        0.99215686, 0.95686275, 0.52156866, 0.04313726, 0.        ,\n",
              "        0.        , 0.        , 0.        , 0.        , 0.        ,\n",
              "        0.        , 0.        , 0.        , 0.        , 0.        ,\n",
              "        0.        , 0.        , 0.        ],\n",
              "       [0.        , 0.        , 0.        , 0.        , 0.53333336,\n",
              "        0.99215686, 0.99215686, 0.99215686, 0.83137256, 0.5294118 ,\n",
              "        0.5176471 , 0.0627451 , 0.        , 0.        , 0.        ,\n",
              "        0.        , 0.        , 0.        , 0.        , 0.        ,\n",
              "        0.        , 0.        , 0.        , 0.        , 0.        ,\n",
              "        0.        , 0.        , 0.        ],\n",
              "       [0.        , 0.        , 0.        , 0.        , 0.        ,\n",
              "        0.        , 0.        , 0.        , 0.        , 0.        ,\n",
              "        0.        , 0.        , 0.        , 0.        , 0.        ,\n",
              "        0.        , 0.        , 0.        , 0.        , 0.        ,\n",
              "        0.        , 0.        , 0.        , 0.        , 0.        ,\n",
              "        0.        , 0.        , 0.        ],\n",
              "       [0.        , 0.        , 0.        , 0.        , 0.        ,\n",
              "        0.        , 0.        , 0.        , 0.        , 0.        ,\n",
              "        0.        , 0.        , 0.        , 0.        , 0.        ,\n",
              "        0.        , 0.        , 0.        , 0.        , 0.        ,\n",
              "        0.        , 0.        , 0.        , 0.        , 0.        ,\n",
              "        0.        , 0.        , 0.        ],\n",
              "       [0.        , 0.        , 0.        , 0.        , 0.        ,\n",
              "        0.        , 0.        , 0.        , 0.        , 0.        ,\n",
              "        0.        , 0.        , 0.        , 0.        , 0.        ,\n",
              "        0.        , 0.        , 0.        , 0.        , 0.        ,\n",
              "        0.        , 0.        , 0.        , 0.        , 0.        ,\n",
              "        0.        , 0.        , 0.        ]], dtype=float32)"
            ]
          },
          "metadata": {},
          "execution_count": 15
        }
      ]
    },
    {
      "cell_type": "markdown",
      "source": [
        "Onehot encode the y features"
      ],
      "metadata": {
        "id": "iYli6FcIyMmt"
      }
    },
    {
      "cell_type": "code",
      "source": [
        "from keras.utils import to_categorical\n",
        "ytrain_cat = to_categorical(ytrain)\n",
        "ytest_cat = to_categorical(ytest)\n"
      ],
      "metadata": {
        "id": "4_8lRTFoyBjm"
      },
      "execution_count": 16,
      "outputs": []
    },
    {
      "cell_type": "code",
      "source": [
        "ytrain[0:5]"
      ],
      "metadata": {
        "colab": {
          "base_uri": "https://localhost:8080/"
        },
        "id": "ucbDDE5dz5D_",
        "outputId": "fbffd98b-5e5c-4d68-e0ba-b5986b945ba6"
      },
      "execution_count": 17,
      "outputs": [
        {
          "output_type": "execute_result",
          "data": {
            "text/plain": [
              "array([5, 0, 4, 1, 9], dtype=uint8)"
            ]
          },
          "metadata": {},
          "execution_count": 17
        }
      ]
    },
    {
      "cell_type": "code",
      "source": [
        "ytrain_cat[0:5]"
      ],
      "metadata": {
        "colab": {
          "base_uri": "https://localhost:8080/"
        },
        "id": "BJ-E2VS_z7ML",
        "outputId": "0b9eb5d2-6cd9-4971-9a2d-efbf477bc068"
      },
      "execution_count": 18,
      "outputs": [
        {
          "output_type": "execute_result",
          "data": {
            "text/plain": [
              "array([[0., 0., 0., 0., 0., 1., 0., 0., 0., 0.],\n",
              "       [1., 0., 0., 0., 0., 0., 0., 0., 0., 0.],\n",
              "       [0., 0., 0., 0., 1., 0., 0., 0., 0., 0.],\n",
              "       [0., 1., 0., 0., 0., 0., 0., 0., 0., 0.],\n",
              "       [0., 0., 0., 0., 0., 0., 0., 0., 0., 1.]], dtype=float32)"
            ]
          },
          "metadata": {},
          "execution_count": 18
        }
      ]
    },
    {
      "cell_type": "code",
      "source": [
        "ytest[0:5]"
      ],
      "metadata": {
        "colab": {
          "base_uri": "https://localhost:8080/"
        },
        "id": "oN9vusSiz-nU",
        "outputId": "ec8a9b51-77d6-44aa-c2bd-2c36c06f676d"
      },
      "execution_count": 19,
      "outputs": [
        {
          "output_type": "execute_result",
          "data": {
            "text/plain": [
              "array([7, 2, 1, 0, 4], dtype=uint8)"
            ]
          },
          "metadata": {},
          "execution_count": 19
        }
      ]
    },
    {
      "cell_type": "code",
      "source": [
        "ytest_cat[0:5]\n"
      ],
      "metadata": {
        "colab": {
          "base_uri": "https://localhost:8080/"
        },
        "id": "83oC5gqC0COV",
        "outputId": "99874622-8617-4ac2-daae-88d992389e8f"
      },
      "execution_count": 20,
      "outputs": [
        {
          "output_type": "execute_result",
          "data": {
            "text/plain": [
              "array([[0., 0., 0., 0., 0., 0., 0., 1., 0., 0.],\n",
              "       [0., 0., 1., 0., 0., 0., 0., 0., 0., 0.],\n",
              "       [0., 1., 0., 0., 0., 0., 0., 0., 0., 0.],\n",
              "       [1., 0., 0., 0., 0., 0., 0., 0., 0., 0.],\n",
              "       [0., 0., 0., 0., 1., 0., 0., 0., 0., 0.]], dtype=float32)"
            ]
          },
          "metadata": {},
          "execution_count": 20
        }
      ]
    },
    {
      "cell_type": "code",
      "source": [
        "xtrain.shape"
      ],
      "metadata": {
        "colab": {
          "base_uri": "https://localhost:8080/"
        },
        "id": "80y2axrn0FJK",
        "outputId": "54327519-9025-4250-d507-f3d3736af6a7"
      },
      "execution_count": 21,
      "outputs": [
        {
          "output_type": "execute_result",
          "data": {
            "text/plain": [
              "(60000, 28, 28)"
            ]
          },
          "metadata": {},
          "execution_count": 21
        }
      ]
    },
    {
      "cell_type": "markdown",
      "source": [
        "\n",
        "Build the neural network"
      ],
      "metadata": {
        "id": "-WHjztqn0OXt"
      }
    },
    {
      "cell_type": "code",
      "source": [
        "from keras.models import Sequential\n",
        "from keras.layers import Input, Conv2D, MaxPooling2D, Flatten, Dense, Dropout"
      ],
      "metadata": {
        "id": "SIBtqR9n0MgT"
      },
      "execution_count": 22,
      "outputs": []
    },
    {
      "cell_type": "code",
      "source": [
        "model = Sequential()\n",
        "\n",
        "# Added Input layer\n",
        "model.add(Input(shape=(28, 28, 1)))\n",
        "\n",
        "# Add Convolution Layer 1\n",
        "model.add(Conv2D(filters=32, kernel_size=(3, 3), activation='relu'))\n",
        "\n",
        "# Add Max pooling 1\n",
        "model.add(MaxPooling2D(pool_size=(2, 2)))\n",
        "\n",
        "# Add Convolution Layer2\n",
        "model.add(Conv2D(filters=64, kernel_size=(3, 3), activation='relu'))\n",
        "\n",
        "# Add Max pooling 2\n",
        "model.add(MaxPooling2D(pool_size=(2, 2)))\n",
        "\n",
        "# Add Flatten Layer\n",
        "model.add(Flatten())\n",
        "\n",
        "# Add Dropout Layer\n",
        "model.add(Dropout(0.5))\n",
        "\n",
        "# Output layer\n",
        "model.add(Dense(ytrain_cat.shape[1], activation='softmax'))"
      ],
      "metadata": {
        "id": "-uVpLkYB0Vet"
      },
      "execution_count": 23,
      "outputs": []
    },
    {
      "cell_type": "code",
      "source": [
        "model.summary()"
      ],
      "metadata": {
        "colab": {
          "base_uri": "https://localhost:8080/"
        },
        "id": "h1XSze100Z8X",
        "outputId": "5aa7a850-00b1-44e7-f9f5-8754955cc197"
      },
      "execution_count": 24,
      "outputs": [
        {
          "output_type": "stream",
          "name": "stdout",
          "text": [
            "Model: \"sequential\"\n",
            "_________________________________________________________________\n",
            " Layer (type)                Output Shape              Param #   \n",
            "=================================================================\n",
            " conv2d (Conv2D)             (None, 26, 26, 32)        320       \n",
            "                                                                 \n",
            " max_pooling2d (MaxPooling2  (None, 13, 13, 32)        0         \n",
            " D)                                                              \n",
            "                                                                 \n",
            " conv2d_1 (Conv2D)           (None, 11, 11, 64)        18496     \n",
            "                                                                 \n",
            " max_pooling2d_1 (MaxPoolin  (None, 5, 5, 64)          0         \n",
            " g2D)                                                            \n",
            "                                                                 \n",
            " flatten (Flatten)           (None, 1600)              0         \n",
            "                                                                 \n",
            " dropout (Dropout)           (None, 1600)              0         \n",
            "                                                                 \n",
            " dense (Dense)               (None, 10)                16010     \n",
            "                                                                 \n",
            "=================================================================\n",
            "Total params: 34826 (136.04 KB)\n",
            "Trainable params: 34826 (136.04 KB)\n",
            "Non-trainable params: 0 (0.00 Byte)\n",
            "_________________________________________________________________\n"
          ]
        }
      ]
    },
    {
      "cell_type": "code",
      "source": [
        "model.compile(optimizer='adam', loss='categorical_crossentropy', metrics=['accuracy'])\n"
      ],
      "metadata": {
        "id": "GA2c6Pde0cFd"
      },
      "execution_count": 25,
      "outputs": []
    },
    {
      "cell_type": "code",
      "source": [
        "hist = model.fit(xtrain_scl, ytrain_cat, epochs=15, validation_split=0.1)"
      ],
      "metadata": {
        "colab": {
          "base_uri": "https://localhost:8080/"
        },
        "id": "H0s-DSKS0gZf",
        "outputId": "f7672db7-b804-4417-ac89-d14111a9bee1"
      },
      "execution_count": 26,
      "outputs": [
        {
          "output_type": "stream",
          "name": "stdout",
          "text": [
            "Epoch 1/15\n",
            "1688/1688 [==============================] - 12s 4ms/step - loss: 0.2293 - accuracy: 0.9291 - val_loss: 0.0594 - val_accuracy: 0.9832\n",
            "Epoch 2/15\n",
            "1688/1688 [==============================] - 7s 4ms/step - loss: 0.0865 - accuracy: 0.9732 - val_loss: 0.0492 - val_accuracy: 0.9860\n",
            "Epoch 3/15\n",
            "1688/1688 [==============================] - 7s 4ms/step - loss: 0.0677 - accuracy: 0.9784 - val_loss: 0.0425 - val_accuracy: 0.9878\n",
            "Epoch 4/15\n",
            "1688/1688 [==============================] - 8s 5ms/step - loss: 0.0568 - accuracy: 0.9814 - val_loss: 0.0389 - val_accuracy: 0.9887\n",
            "Epoch 5/15\n",
            "1688/1688 [==============================] - 7s 4ms/step - loss: 0.0495 - accuracy: 0.9837 - val_loss: 0.0303 - val_accuracy: 0.9925\n",
            "Epoch 6/15\n",
            "1688/1688 [==============================] - 10s 6ms/step - loss: 0.0440 - accuracy: 0.9862 - val_loss: 0.0347 - val_accuracy: 0.9905\n",
            "Epoch 7/15\n",
            "1688/1688 [==============================] - 14s 8ms/step - loss: 0.0427 - accuracy: 0.9865 - val_loss: 0.0341 - val_accuracy: 0.9917\n",
            "Epoch 8/15\n",
            "1688/1688 [==============================] - 13s 8ms/step - loss: 0.0376 - accuracy: 0.9882 - val_loss: 0.0349 - val_accuracy: 0.9908\n",
            "Epoch 9/15\n",
            "1688/1688 [==============================] - 8s 5ms/step - loss: 0.0375 - accuracy: 0.9882 - val_loss: 0.0300 - val_accuracy: 0.9917\n",
            "Epoch 10/15\n",
            "1688/1688 [==============================] - 6s 4ms/step - loss: 0.0348 - accuracy: 0.9888 - val_loss: 0.0302 - val_accuracy: 0.9928\n",
            "Epoch 11/15\n",
            "1688/1688 [==============================] - 8s 5ms/step - loss: 0.0329 - accuracy: 0.9889 - val_loss: 0.0343 - val_accuracy: 0.9903\n",
            "Epoch 12/15\n",
            "1688/1688 [==============================] - 7s 4ms/step - loss: 0.0321 - accuracy: 0.9895 - val_loss: 0.0264 - val_accuracy: 0.9930\n",
            "Epoch 13/15\n",
            "1688/1688 [==============================] - 7s 4ms/step - loss: 0.0287 - accuracy: 0.9904 - val_loss: 0.0286 - val_accuracy: 0.9925\n",
            "Epoch 14/15\n",
            "1688/1688 [==============================] - 6s 4ms/step - loss: 0.0284 - accuracy: 0.9906 - val_loss: 0.0344 - val_accuracy: 0.9910\n",
            "Epoch 15/15\n",
            "1688/1688 [==============================] - 8s 5ms/step - loss: 0.0265 - accuracy: 0.9910 - val_loss: 0.0296 - val_accuracy: 0.9928\n"
          ]
        }
      ]
    },
    {
      "cell_type": "markdown",
      "source": [
        "\n",
        "Plot the learning curve"
      ],
      "metadata": {
        "id": "yd8zQjFp0lGp"
      }
    },
    {
      "cell_type": "code",
      "source": [
        "plt.figure(figsize=(10, 5))\n",
        "plt.plot(hist.history['loss'], label='Train Loss')\n",
        "plt.plot(hist.history['val_loss'], label='Validation Loss')\n",
        "plt.title('Learing Curve')\n",
        "plt.ylabel('Categorical Crossentropy loss')\n",
        "plt.xlabel('Epoch')\n",
        "plt.legend()\n",
        "plt.show()"
      ],
      "metadata": {
        "colab": {
          "base_uri": "https://localhost:8080/",
          "height": 368
        },
        "id": "6oRIVYAf0i8z",
        "outputId": "56d20aca-5a6a-4e49-b659-7e2c1e89a6a6"
      },
      "execution_count": 27,
      "outputs": [
        {
          "output_type": "display_data",
          "data": {
            "text/plain": [
              "<Figure size 1000x500 with 1 Axes>"
            ],
            "image/png": "[encoded data removed]"
          },
          "metadata": {}
        }
      ]
    },
    {
      "cell_type": "markdown",
      "source": [
        "\n",
        "Evaluate the model in train and test"
      ],
      "metadata": {
        "id": "9J2LWnyt1Jh5"
      }
    },
    {
      "cell_type": "code",
      "source": [
        "model.evaluate(xtrain_scl, ytrain_cat)"
      ],
      "metadata": {
        "colab": {
          "base_uri": "https://localhost:8080/"
        },
        "id": "vNTHd3e71Hb6",
        "outputId": "e4a6595b-00c6-4aaf-a9dc-20e1c6bfdcdc"
      },
      "execution_count": 28,
      "outputs": [
        {
          "output_type": "stream",
          "name": "stdout",
          "text": [
            "1875/1875 [==============================] - 7s 4ms/step - loss: 0.0105 - accuracy: 0.9972\n"
          ]
        },
        {
          "output_type": "execute_result",
          "data": {
            "text/plain": [
              "[0.010529588907957077, 0.9971666932106018]"
            ]
          },
          "metadata": {},
          "execution_count": 28
        }
      ]
    },
    {
      "cell_type": "code",
      "source": [
        "model.evaluate(xtest_scl, ytest_cat)"
      ],
      "metadata": {
        "colab": {
          "base_uri": "https://localhost:8080/"
        },
        "id": "87bye56J1Nhj",
        "outputId": "98ddc172-02ae-4679-cba8-94a197f1abee"
      },
      "execution_count": 29,
      "outputs": [
        {
          "output_type": "stream",
          "name": "stdout",
          "text": [
            "313/313 [==============================] - 1s 3ms/step - loss: 0.0224 - accuracy: 0.9931\n"
          ]
        },
        {
          "output_type": "execute_result",
          "data": {
            "text/plain": [
              "[0.02239588089287281, 0.9930999875068665]"
            ]
          },
          "metadata": {},
          "execution_count": 29
        }
      ]
    },
    {
      "cell_type": "markdown",
      "source": [
        "Predict results for train and test"
      ],
      "metadata": {
        "id": "K3-ZBOyI1S0L"
      }
    },
    {
      "cell_type": "code",
      "source": [
        "yprob_train = model.predict(xtrain_scl)\n",
        "yprob_test = model.predict(xtest_scl)"
      ],
      "metadata": {
        "colab": {
          "base_uri": "https://localhost:8080/"
        },
        "id": "GhhNJifq1Q6L",
        "outputId": "3ed09c98-c77e-416f-e77a-93a3b90b4e46"
      },
      "execution_count": 30,
      "outputs": [
        {
          "output_type": "stream",
          "name": "stdout",
          "text": [
            "1875/1875 [==============================] - 4s 2ms/step\n",
            "313/313 [==============================] - 1s 2ms/step\n"
          ]
        }
      ]
    },
    {
      "cell_type": "code",
      "source": [
        "yprob_train[0:5]"
      ],
      "metadata": {
        "colab": {
          "base_uri": "https://localhost:8080/"
        },
        "id": "T6uJ1fsG1Wf9",
        "outputId": "4cffaeed-8bba-4db7-c365-eaf5c78210a2"
      },
      "execution_count": 31,
      "outputs": [
        {
          "output_type": "execute_result",
          "data": {
            "text/plain": [
              "array([[1.25084654e-12, 1.03854989e-12, 5.66269531e-10, 2.21944274e-03,\n",
              "        4.16831337e-13, 9.97779667e-01, 4.43085880e-11, 5.59996138e-09,\n",
              "        8.55506016e-07, 1.49364269e-07],\n",
              "       [9.99998450e-01, 5.98738350e-18, 1.42543934e-06, 7.90806049e-12,\n",
              "        1.21615990e-11, 1.77385721e-12, 1.19346275e-08, 8.46810955e-11,\n",
              "        1.24041277e-09, 6.95297118e-08],\n",
              "       [9.89610933e-16, 6.11855526e-08, 1.92286587e-09, 1.41130952e-11,\n",
              "        9.99982119e-01, 1.03676130e-11, 1.74540097e-13, 1.60386517e-05,\n",
              "        8.87279228e-09, 1.71693512e-06],\n",
              "       [4.10979606e-09, 9.99983072e-01, 4.20003346e-07, 4.34680597e-10,\n",
              "        3.12018051e-06, 3.94740823e-10, 4.32159659e-08, 8.16087140e-06,\n",
              "        5.08136964e-06, 7.59621610e-09],\n",
              "       [7.60040739e-13, 7.56442999e-12, 7.07918280e-10, 3.12383941e-09,\n",
              "        5.03268211e-06, 4.14101635e-11, 4.68673918e-16, 3.70438045e-07,\n",
              "        7.21338574e-06, 9.99987364e-01]], dtype=float32)"
            ]
          },
          "metadata": {},
          "execution_count": 31
        }
      ]
    },
    {
      "cell_type": "code",
      "source": [
        "yprob_test[0:5]"
      ],
      "metadata": {
        "colab": {
          "base_uri": "https://localhost:8080/"
        },
        "id": "xeSOPViN1ZaZ",
        "outputId": "722afd54-f673-4c6b-8b0c-c5022711b310"
      },
      "execution_count": 32,
      "outputs": [
        {
          "output_type": "execute_result",
          "data": {
            "text/plain": [
              "array([[2.4655555e-10, 2.7615620e-12, 7.3752182e-07, 7.9203289e-07,\n",
              "        1.0920965e-14, 7.8291471e-12, 8.0748734e-18, 9.9999833e-01,\n",
              "        1.0439226e-09, 5.8991535e-08],\n",
              "       [2.6840237e-08, 3.2642873e-08, 9.9999928e-01, 8.8356968e-11,\n",
              "        5.8780238e-11, 1.7386883e-14, 7.2235599e-07, 1.3072805e-12,\n",
              "        3.9916448e-09, 4.0218254e-12],\n",
              "       [3.7898804e-09, 9.9995303e-01, 2.0908422e-07, 4.0176666e-09,\n",
              "        3.5677374e-05, 2.2826059e-08, 4.4274736e-07, 2.8364777e-06,\n",
              "        7.7820250e-06, 8.7182004e-09],\n",
              "       [9.9981099e-01, 9.5294235e-16, 6.4257387e-07, 9.6741504e-10,\n",
              "        2.6355346e-10, 1.9385553e-08, 1.8620926e-04, 1.4726388e-08,\n",
              "        1.5643169e-06, 5.7864992e-07],\n",
              "       [8.9787396e-12, 1.8037839e-12, 4.5632276e-10, 7.1212936e-13,\n",
              "        9.9999940e-01, 2.3420567e-12, 1.5541481e-10, 1.0626307e-09,\n",
              "        1.2183609e-09, 5.6963074e-07]], dtype=float32)"
            ]
          },
          "metadata": {},
          "execution_count": 32
        }
      ]
    },
    {
      "cell_type": "code",
      "source": [
        "import numpy as np\n",
        "ypred_train = np.argmax(yprob_train, axis=1)\n",
        "ypred_test = np.argmax(yprob_test, axis=1)"
      ],
      "metadata": {
        "id": "pU4HDSCb1gDh"
      },
      "execution_count": 33,
      "outputs": []
    },
    {
      "cell_type": "code",
      "source": [
        "ypred_train[0:5]"
      ],
      "metadata": {
        "colab": {
          "base_uri": "https://localhost:8080/"
        },
        "id": "zoEUXdsI1iT4",
        "outputId": "01015667-0a54-44a6-f4db-2e856d91c3fd"
      },
      "execution_count": 34,
      "outputs": [
        {
          "output_type": "execute_result",
          "data": {
            "text/plain": [
              "array([5, 0, 4, 1, 9])"
            ]
          },
          "metadata": {},
          "execution_count": 34
        }
      ]
    },
    {
      "cell_type": "code",
      "source": [
        "ytrain[0:5]"
      ],
      "metadata": {
        "colab": {
          "base_uri": "https://localhost:8080/"
        },
        "id": "sj99pcjV1kIj",
        "outputId": "7afeea30-e7f0-4199-fb64-61ed58bc1503"
      },
      "execution_count": 35,
      "outputs": [
        {
          "output_type": "execute_result",
          "data": {
            "text/plain": [
              "array([5, 0, 4, 1, 9], dtype=uint8)"
            ]
          },
          "metadata": {},
          "execution_count": 35
        }
      ]
    },
    {
      "cell_type": "code",
      "source": [
        "ypred_test[0:5]"
      ],
      "metadata": {
        "colab": {
          "base_uri": "https://localhost:8080/"
        },
        "id": "tgLBEnp01mFh",
        "outputId": "cb419ee6-1dd3-4faa-aaf8-fcee89db9a5b"
      },
      "execution_count": 36,
      "outputs": [
        {
          "output_type": "execute_result",
          "data": {
            "text/plain": [
              "array([7, 2, 1, 0, 4])"
            ]
          },
          "metadata": {},
          "execution_count": 36
        }
      ]
    },
    {
      "cell_type": "code",
      "source": [
        "ytest[0:5]"
      ],
      "metadata": {
        "colab": {
          "base_uri": "https://localhost:8080/"
        },
        "id": "ZOTaDGqG1oln",
        "outputId": "179b307c-5feb-453c-cb6e-5a1b0b9455ce"
      },
      "execution_count": 37,
      "outputs": [
        {
          "output_type": "execute_result",
          "data": {
            "text/plain": [
              "array([7, 2, 1, 0, 4], dtype=uint8)"
            ]
          },
          "metadata": {},
          "execution_count": 37
        }
      ]
    },
    {
      "cell_type": "markdown",
      "source": [
        "\n",
        "Plot the confusion Matrix"
      ],
      "metadata": {
        "id": "AcIF7c6g1x_c"
      }
    },
    {
      "cell_type": "code",
      "source": [
        "from sklearn.metrics import ConfusionMatrixDisplay\n",
        "ConfusionMatrixDisplay.from_predictions(ytest, ypred_test)"
      ],
      "metadata": {
        "colab": {
          "base_uri": "https://localhost:8080/",
          "height": 466
        },
        "id": "zw6DTrdX1wYJ",
        "outputId": "f96e3892-65c5-4d92-d6cd-223fbdbdc0fa"
      },
      "execution_count": 38,
      "outputs": [
        {
          "output_type": "execute_result",
          "data": {
            "text/plain": [
              "<sklearn.metrics._plot.confusion_matrix.ConfusionMatrixDisplay at 0x7e8a6392e0e0>"
            ]
          },
          "metadata": {},
          "execution_count": 38
        },
        {
          "output_type": "display_data",
          "data": {
            "text/plain": [
              "<Figure size 640x480 with 2 Axes>"
            ],
            "image/png": "[encoded data removed]"
          },
          "metadata": {}
        }
      ]
    },
    {
      "cell_type": "code",
      "source": [
        "from sklearn.metrics import classification_report\n",
        "print(classification_report(ytest, ypred_test))"
      ],
      "metadata": {
        "colab": {
          "base_uri": "https://localhost:8080/"
        },
        "id": "s4umQFkL11mM",
        "outputId": "36b1a9dc-6f3e-4924-e5ee-8e42b6ef6b5d"
      },
      "execution_count": 39,
      "outputs": [
        {
          "output_type": "stream",
          "name": "stdout",
          "text": [
            "              precision    recall  f1-score   support\n",
            "\n",
            "           0       0.99      1.00      1.00       980\n",
            "           1       1.00      1.00      1.00      1135\n",
            "           2       0.99      1.00      0.99      1032\n",
            "           3       0.99      0.99      0.99      1010\n",
            "           4       0.99      1.00      0.99       982\n",
            "           5       0.99      0.99      0.99       892\n",
            "           6       0.99      0.99      0.99       958\n",
            "           7       0.99      0.99      0.99      1028\n",
            "           8       0.99      0.99      0.99       974\n",
            "           9       0.99      0.99      0.99      1009\n",
            "\n",
            "    accuracy                           0.99     10000\n",
            "   macro avg       0.99      0.99      0.99     10000\n",
            "weighted avg       0.99      0.99      0.99     10000\n",
            "\n"
          ]
        }
      ]
    },
    {
      "cell_type": "markdown",
      "source": [
        "**Save above model for future use**"
      ],
      "metadata": {
        "id": "ufSzylbY2DvQ"
      }
    },
    {
      "cell_type": "code",
      "source": [
        "model.save('digit_model.keras')"
      ],
      "metadata": {
        "id": "6y6AGC5w1-bO"
      },
      "execution_count": 40,
      "outputs": []
    },
    {
      "cell_type": "markdown",
      "source": [
        "\n",
        "**Load above model**"
      ],
      "metadata": {
        "id": "p0EpdVKa2Lh3"
      }
    },
    {
      "cell_type": "code",
      "source": [
        "from keras.models import load_model\n",
        "nn = load_model('/content/digit_model.keras')\n",
        "nn.summary()"
      ],
      "metadata": {
        "colab": {
          "base_uri": "https://localhost:8080/"
        },
        "id": "PYE4pCZ72KRi",
        "outputId": "06d989ca-d8ce-47bf-e1a1-39f4c6473d26"
      },
      "execution_count": 41,
      "outputs": [
        {
          "output_type": "stream",
          "name": "stdout",
          "text": [
            "Model: \"sequential\"\n",
            "_________________________________________________________________\n",
            " Layer (type)                Output Shape              Param #   \n",
            "=================================================================\n",
            " conv2d (Conv2D)             (None, 26, 26, 32)        320       \n",
            "                                                                 \n",
            " max_pooling2d (MaxPooling2  (None, 13, 13, 32)        0         \n",
            " D)                                                              \n",
            "                                                                 \n",
            " conv2d_1 (Conv2D)           (None, 11, 11, 64)        18496     \n",
            "                                                                 \n",
            " max_pooling2d_1 (MaxPoolin  (None, 5, 5, 64)          0         \n",
            " g2D)                                                            \n",
            "                                                                 \n",
            " flatten (Flatten)           (None, 1600)              0         \n",
            "                                                                 \n",
            " dropout (Dropout)           (None, 1600)              0         \n",
            "                                                                 \n",
            " dense (Dense)               (None, 10)                16010     \n",
            "                                                                 \n",
            "=================================================================\n",
            "Total params: 34826 (136.04 KB)\n",
            "Trainable params: 34826 (136.04 KB)\n",
            "Non-trainable params: 0 (0.00 Byte)\n",
            "_________________________________________________________________\n"
          ]
        }
      ]
    },
    {
      "cell_type": "code",
      "source": [
        "import cv2\n",
        "img=cv2.imread('/content/img1.jpg',cv2.IMREAD_GRAYSCALE)\n",
        "img"
      ],
      "metadata": {
        "id": "cyjuFvOy2QZN",
        "colab": {
          "base_uri": "https://localhost:8080/",
          "height": 69
        },
        "outputId": "c100693f-85e9-4df6-882e-46911a569a53"
      },
      "execution_count": 50,
      "outputs": [
        {
          "output_type": "execute_result",
          "data": {
            "text/plain": [
              "array([[  0,   3,   3,   0,   0,   3,   0,   0,   0,   1,   0,   2,   0,\n",
              "          0,   3,   0,   1,   0,   2,   0,   2,   0,   3,   0,   0,   0,\n",
              "          0,   0],\n",
              "       [  0,   0,   0,   6,   0,   0,   6,   1,   0,   1,   5,   0,   1,\n",
              "          0,   1,   2,   1,   0,   0,   1,   0,   1,   0,   3,   0,   0,\n",
              "          0,   0],\n",
              "       [  1,   1,   0,   2,   0,   1,   0,   0,   4,   0,   1,   1,   1,\n",
              "         74, 223, 222,  94,   0,   4,   0,   4,   0,   0,   1,   0,   0,\n",
              "          0,   0],\n",
              "       [  0,   0,   0,   1,   0,   1,   0,   4,   0,  75, 222, 254, 255,\n",
              "        254, 255, 255, 249,  94,   0,   1,   0,   0,   3,   0,   0,   0,\n",
              "          0,   0],\n",
              "       [  0,   2,   0,   1,   1,   0,   2,   0,  68, 242, 255, 254, 253,\n",
              "        255, 253, 255, 250, 252,   0,   0,   4,   0,   2,   0,   0,   0,\n",
              "          0,   0],\n",
              "       [  1,   4,   0,   0,   1,   1,   0,  77, 241, 255, 255, 255, 255,\n",
              "        252, 255, 253, 255, 255,  95,   0,   4,   0,   0,   5,   0,   0,\n",
              "          0,   0],\n",
              "       [  0,   0,   2,   0,   1,   0,   1, 227, 255, 252, 253, 153,   0,\n",
              "          1,   0, 248, 255, 254, 246,   2,   1,   0,   0,   0,   0,   0,\n",
              "          0,   0],\n",
              "       [  0,   2,   1,   0,   0,   3,   0, 255, 254, 255, 151,   0,   1,\n",
              "          1,   0, 120, 254, 255, 253,   2,   0,   2,   0,   1,   0,   0,\n",
              "          0,   0],\n",
              "       [  0,   0,   3,   0,   0,   0,   1, 250, 252, 255,   1,   0,   2,\n",
              "          2,   0,   1, 255, 252, 255,   0,   0,   1,   3,   0,   0,   0,\n",
              "          0,   0],\n",
              "       [  0,   0,   0,   2,   0,   0,   0, 116, 255, 153,   0,   5,   0,\n",
              "          0,   4,   0, 254, 254, 254,   2,   2,   0,   2,   0,   0,   0,\n",
              "          0,   0],\n",
              "       [  1,   0,   0,   2,   0,   1,   2,   7,   0,   0,   4,   0,   3,\n",
              "          0,   0,  72, 255, 255, 255,   0,   3,   0,   0,   0,   0,   0,\n",
              "          0,   0],\n",
              "       [  1,   0,   1,   0,   0,   0,   1,   0,   1,   2,   2,   0,   0,\n",
              "          4,   1, 233, 253, 255, 251,   1,   0,   0,   0,   3,   0,   0,\n",
              "          0,   0],\n",
              "       [  0,   0,   4,   0,   2,   0,   0,   5,   0,   1,   0,   2,   1,\n",
              "          0,  67, 255, 255, 252, 157,   1,   0,   1,   2,   0,   0,   0,\n",
              "          0,   0],\n",
              "       [  0,   2,   0,   0,   0,   1,   0,   0,   3,   1,   3,   0,   0,\n",
              "         74, 243, 253, 253, 255,   0,   0,   1,   2,   0,   2,   0,   0,\n",
              "          0,   0],\n",
              "       [  1,   1,   0,   1,   0,   1,   3,   0,   0,   0,   0,   0,  99,\n",
              "        239, 252, 255, 253, 150,   0,   7,   1,   0,   1,   1,   0,   0,\n",
              "          0,   0],\n",
              "       [  0,   0,   0,   4,   0,   0,   1,   0,   3,   0,  73, 224, 253,\n",
              "        252, 255, 255, 154,   0,   3,   0,   1,   1,   0,   0,   0,   0,\n",
              "          0,   0],\n",
              "       [  0,   0,   0,   0,   0,   0,   0,   0,   1,  69, 240, 255, 255,\n",
              "        255, 255, 152,   0,   2,   0,   0,   2,   0,   0,   1,   0,   0,\n",
              "          0,   0],\n",
              "       [  0,   0,   0,   0,   0,   0,   0,   0,  72, 239, 255, 253, 254,\n",
              "        166,   5,   0,   3,   0,   0,   0,  71, 191,  94,   0,   0,   0,\n",
              "          0,   0],\n",
              "       [  0,   0,   0,   0,   0,   0,   0,   0, 230, 255, 250, 255, 255,\n",
              "        255, 255, 255, 252, 255, 255, 255, 251, 255, 246,   5,   0,   0,\n",
              "          0,   0],\n",
              "       [  0,   0,   0,   0,   0,   0,   0,   0, 250, 251, 255, 253, 255,\n",
              "        253, 252, 253, 255, 255, 253, 255, 255, 255, 255,   0,   0,   0,\n",
              "          0,   0],\n",
              "       [  0,   0,   0,   0,   0,   0,   0,   0, 118, 252, 255, 253, 255,\n",
              "        255, 255, 255, 254, 252, 255, 254, 254, 255, 151,   0,   0,   0,\n",
              "          0,   0],\n",
              "       [  0,   0,   0,   0,   0,   0,   0,   0,   0,   4,   0,   0,   3,\n",
              "          0,   0,   1,   1,   3,   0,   3,   1,   0,   0,   0,   0,   0,\n",
              "          0,   0],\n",
              "       [  0,   0,   0,   0,   0,   0,   0,   0,   2,   0,   1,   3,   0,\n",
              "          3,   4,   0,   0,   2,   2,   0,   0,   1,   0,   0,   0,   0,\n",
              "          0,   0],\n",
              "       [  0,   0,   0,   0,   0,   0,   0,   0,   1,   0,   0,   2,   0,\n",
              "          0,   0,   0,   4,   0,   0,   2,   0,   1,   1,   0,   0,   0,\n",
              "          0,   0],\n",
              "       [  0,   0,   0,   0,   0,   0,   0,   0,   0,   0,   0,   0,   0,\n",
              "          0,   0,   0,   0,   0,   0,   0,   0,   0,   0,   0,   0,   0,\n",
              "          0,   0],\n",
              "       [  0,   0,   0,   0,   0,   0,   0,   0,   0,   0,   0,   0,   0,\n",
              "          0,   0,   0,   0,   0,   0,   0,   0,   0,   0,   0,   0,   0,\n",
              "          0,   0],\n",
              "       [  0,   0,   0,   0,   0,   0,   0,   0,   0,   0,   0,   0,   0,\n",
              "          0,   0,   0,   0,   0,   0,   0,   0,   0,   0,   0,   0,   0,\n",
              "          0,   0],\n",
              "       [  0,   0,   0,   0,   0,   0,   0,   0,   0,   0,   0,   0,   0,\n",
              "          0,   0,   0,   0,   0,   0,   0,   0,   0,   0,   0,   0,   0,\n",
              "          0,   0]], dtype=uint8)"
            ],
            "text/html": [
              "<style>\n",
              "      .ndarray_repr .ndarray_raw_data {\n",
              "        display: none;\n",
              "      }\n",
              "      .ndarray_repr.show_array .ndarray_raw_data {\n",
              "        display: block;\n",
              "      }\n",
              "      .ndarray_repr.show_array .ndarray_image_preview {\n",
              "        display: none;\n",
              "      }\n",
              "      </style>\n",
              "      <div id=\"id-215597b7-0488-4997-bc7d-e53a2a487c1a\" class=\"ndarray_repr\"><pre>ndarray (28, 28) <button style=\"padding: 0 2px;\">show data</button></pre><img src=\"data:image/png;base64,iVBORw0KGgoAAAANSUhEUgAAABwAAAAcCAAAAABXZoBIAAABPklEQVR4nL2RQU4bQRBF36/qwQeDCGKUK5gFV2CRRc4RTKRsc43cxCAhRcqKABICe7p/FjNjO3ifWvSiS7/q/V+QCQmIgEQEQTLVERwJdQiFQGjsSgSCgqT57WpBoYAmpRCF81Vzs98WiO3YGMQnT27V1eseCjHKCkh8erTt3tW+oEC3k6J79/UG8er2EtuFhCBx8zUSn5trDIjAaHLdW0Qg9wbtfAZw5Rs6KLTWIrZAEChmUEg4s73LR2h4I6Dod/VG7IwWAjpEiGO7/y4UexsFqYT5c60GTUslNNFdPvSuX5kJba0WEMnHu9rb38i91gT24Y9tLwmIvasAcPbg2n50JHD6c/Gv8pfXHrK3N37pxgyGWqu0aFbQYvqfDPFFQGS4hs3yHVGBBCnJ97AESrJAHLCOBxgGxKHR/1d/AbEsd+SnbibEAAAAAElFTkSuQmCC\" class=\"ndarray_image_preview\" /><pre class=\"ndarray_raw_data\">array([[  0,   3,   3,   0,   0,   3,   0,   0,   0,   1,   0,   2,   0,\n",
              "          0,   3,   0,   1,   0,   2,   0,   2,   0,   3,   0,   0,   0,\n",
              "          0,   0],\n",
              "       [  0,   0,   0,   6,   0,   0,   6,   1,   0,   1,   5,   0,   1,\n",
              "          0,   1,   2,   1,   0,   0,   1,   0,   1,   0,   3,   0,   0,\n",
              "          0,   0],\n",
              "       [  1,   1,   0,   2,   0,   1,   0,   0,   4,   0,   1,   1,   1,\n",
              "         74, 223, 222,  94,   0,   4,   0,   4,   0,   0,   1,   0,   0,\n",
              "          0,   0],\n",
              "       [  0,   0,   0,   1,   0,   1,   0,   4,   0,  75, 222, 254, 255,\n",
              "        254, 255, 255, 249,  94,   0,   1,   0,   0,   3,   0,   0,   0,\n",
              "          0,   0],\n",
              "       [  0,   2,   0,   1,   1,   0,   2,   0,  68, 242, 255, 254, 253,\n",
              "        255, 253, 255, 250, 252,   0,   0,   4,   0,   2,   0,   0,   0,\n",
              "          0,   0],\n",
              "       [  1,   4,   0,   0,   1,   1,   0,  77, 241, 255, 255, 255, 255,\n",
              "        252, 255, 253, 255, 255,  95,   0,   4,   0,   0,   5,   0,   0,\n",
              "          0,   0],\n",
              "       [  0,   0,   2,   0,   1,   0,   1, 227, 255, 252, 253, 153,   0,\n",
              "          1,   0, 248, 255, 254, 246,   2,   1,   0,   0,   0,   0,   0,\n",
              "          0,   0],\n",
              "       [  0,   2,   1,   0,   0,   3,   0, 255, 254, 255, 151,   0,   1,\n",
              "          1,   0, 120, 254, 255, 253,   2,   0,   2,   0,   1,   0,   0,\n",
              "          0,   0],\n",
              "       [  0,   0,   3,   0,   0,   0,   1, 250, 252, 255,   1,   0,   2,\n",
              "          2,   0,   1, 255, 252, 255,   0,   0,   1,   3,   0,   0,   0,\n",
              "          0,   0],\n",
              "       [  0,   0,   0,   2,   0,   0,   0, 116, 255, 153,   0,   5,   0,\n",
              "          0,   4,   0, 254, 254, 254,   2,   2,   0,   2,   0,   0,   0,\n",
              "          0,   0],\n",
              "       [  1,   0,   0,   2,   0,   1,   2,   7,   0,   0,   4,   0,   3,\n",
              "          0,   0,  72, 255, 255, 255,   0,   3,   0,   0,   0,   0,   0,\n",
              "          0,   0],\n",
              "       [  1,   0,   1,   0,   0,   0,   1,   0,   1,   2,   2,   0,   0,\n",
              "          4,   1, 233, 253, 255, 251,   1,   0,   0,   0,   3,   0,   0,\n",
              "          0,   0],\n",
              "       [  0,   0,   4,   0,   2,   0,   0,   5,   0,   1,   0,   2,   1,\n",
              "          0,  67, 255, 255, 252, 157,   1,   0,   1,   2,   0,   0,   0,\n",
              "          0,   0],\n",
              "       [  0,   2,   0,   0,   0,   1,   0,   0,   3,   1,   3,   0,   0,\n",
              "         74, 243, 253, 253, 255,   0,   0,   1,   2,   0,   2,   0,   0,\n",
              "          0,   0],\n",
              "       [  1,   1,   0,   1,   0,   1,   3,   0,   0,   0,   0,   0,  99,\n",
              "        239, 252, 255, 253, 150,   0,   7,   1,   0,   1,   1,   0,   0,\n",
              "          0,   0],\n",
              "       [  0,   0,   0,   4,   0,   0,   1,   0,   3,   0,  73, 224, 253,\n",
              "        252, 255, 255, 154,   0,   3,   0,   1,   1,   0,   0,   0,   0,\n",
              "          0,   0],\n",
              "       [  0,   0,   0,   0,   0,   0,   0,   0,   1,  69, 240, 255, 255,\n",
              "        255, 255, 152,   0,   2,   0,   0,   2,   0,   0,   1,   0,   0,\n",
              "          0,   0],\n",
              "       [  0,   0,   0,   0,   0,   0,   0,   0,  72, 239, 255, 253, 254,\n",
              "        166,   5,   0,   3,   0,   0,   0,  71, 191,  94,   0,   0,   0,\n",
              "          0,   0],\n",
              "       [  0,   0,   0,   0,   0,   0,   0,   0, 230, 255, 250, 255, 255,\n",
              "        255, 255, 255, 252, 255, 255, 255, 251, 255, 246,   5,   0,   0,\n",
              "          0,   0],\n",
              "       [  0,   0,   0,   0,   0,   0,   0,   0, 250, 251, 255, 253, 255,\n",
              "        253, 252, 253, 255, 255, 253, 255, 255, 255, 255,   0,   0,   0,\n",
              "          0,   0],\n",
              "       [  0,   0,   0,   0,   0,   0,   0,   0, 118, 252, 255, 253, 255,\n",
              "        255, 255, 255, 254, 252, 255, 254, 254, 255, 151,   0,   0,   0,\n",
              "          0,   0],\n",
              "       [  0,   0,   0,   0,   0,   0,   0,   0,   0,   4,   0,   0,   3,\n",
              "          0,   0,   1,   1,   3,   0,   3,   1,   0,   0,   0,   0,   0,\n",
              "          0,   0],\n",
              "       [  0,   0,   0,   0,   0,   0,   0,   0,   2,   0,   1,   3,   0,\n",
              "          3,   4,   0,   0,   2,   2,   0,   0,   1,   0,   0,   0,   0,\n",
              "          0,   0],\n",
              "       [  0,   0,   0,   0,   0,   0,   0,   0,   1,   0,   0,   2,   0,\n",
              "          0,   0,   0,   4,   0,   0,   2,   0,   1,   1,   0,   0,   0,\n",
              "          0,   0],\n",
              "       [  0,   0,   0,   0,   0,   0,   0,   0,   0,   0,   0,   0,   0,\n",
              "          0,   0,   0,   0,   0,   0,   0,   0,   0,   0,   0,   0,   0,\n",
              "          0,   0],\n",
              "       [  0,   0,   0,   0,   0,   0,   0,   0,   0,   0,   0,   0,   0,\n",
              "          0,   0,   0,   0,   0,   0,   0,   0,   0,   0,   0,   0,   0,\n",
              "          0,   0],\n",
              "       [  0,   0,   0,   0,   0,   0,   0,   0,   0,   0,   0,   0,   0,\n",
              "          0,   0,   0,   0,   0,   0,   0,   0,   0,   0,   0,   0,   0,\n",
              "          0,   0],\n",
              "       [  0,   0,   0,   0,   0,   0,   0,   0,   0,   0,   0,   0,   0,\n",
              "          0,   0,   0,   0,   0,   0,   0,   0,   0,   0,   0,   0,   0,\n",
              "          0,   0]], dtype=uint8)</pre></div><script>\n",
              "      (() => {\n",
              "      const titles = ['show data', 'hide data'];\n",
              "      let index = 0\n",
              "      document.querySelector('#id-215597b7-0488-4997-bc7d-e53a2a487c1a button').onclick = (e) => {\n",
              "        document.querySelector('#id-215597b7-0488-4997-bc7d-e53a2a487c1a').classList.toggle('show_array');\n",
              "        index = (++index) % 2;\n",
              "        document.querySelector('#id-215597b7-0488-4997-bc7d-e53a2a487c1a button').textContent = titles[index];\n",
              "        e.preventDefault();\n",
              "        e.stopPropagation();\n",
              "      }\n",
              "      })();\n",
              "    </script>"
            ]
          },
          "metadata": {},
          "execution_count": 50
        }
      ]
    },
    {
      "cell_type": "code",
      "source": [
        "img_scl = img.astype('float32')/255"
      ],
      "metadata": {
        "id": "BVRzDiGLsdsS"
      },
      "execution_count": 51,
      "outputs": []
    },
    {
      "cell_type": "code",
      "source": [
        "probs=model.predict(np.array([img_scl]))"
      ],
      "metadata": {
        "colab": {
          "base_uri": "https://localhost:8080/"
        },
        "id": "lKjYlsS9soqx",
        "outputId": "2a3aedf6-85bf-4ced-c6f4-232b58242a6f"
      },
      "execution_count": 52,
      "outputs": [
        {
          "output_type": "stream",
          "name": "stdout",
          "text": [
            "1/1 [==============================] - 0s 19ms/step\n"
          ]
        }
      ]
    },
    {
      "cell_type": "code",
      "source": [
        "probs"
      ],
      "metadata": {
        "colab": {
          "base_uri": "https://localhost:8080/"
        },
        "id": "0gl59kguud-r",
        "outputId": "0d841697-8edd-49ee-faca-7c47376aff28"
      },
      "execution_count": 53,
      "outputs": [
        {
          "output_type": "execute_result",
          "data": {
            "text/plain": [
              "array([[5.7026640e-12, 2.3156895e-08, 9.9999940e-01, 6.1359026e-07,\n",
              "        2.4696328e-11, 1.4509430e-17, 1.9227970e-12, 3.9943295e-11,\n",
              "        3.3948305e-10, 2.8921723e-14]], dtype=float32)"
            ]
          },
          "metadata": {},
          "execution_count": 53
        }
      ]
    },
    {
      "cell_type": "code",
      "source": [
        "pred=np.argmax(probs)\n",
        "pred"
      ],
      "metadata": {
        "colab": {
          "base_uri": "https://localhost:8080/"
        },
        "id": "mdwh7nR6ugqa",
        "outputId": "b1e39d10-02a8-424e-c9bc-05833fbb80b1"
      },
      "execution_count": 54,
      "outputs": [
        {
          "output_type": "execute_result",
          "data": {
            "text/plain": [
              "2"
            ]
          },
          "metadata": {},
          "execution_count": 54
        }
      ]
    },
    {
      "cell_type": "code",
      "source": [
        "prob = np.max(probs)\n",
        "prob"
      ],
      "metadata": {
        "colab": {
          "base_uri": "https://localhost:8080/"
        },
        "id": "QeZlXqIZupDE",
        "outputId": "b251a4f5-1329-4bf7-f247-64caeedd71f2"
      },
      "execution_count": 55,
      "outputs": [
        {
          "output_type": "execute_result",
          "data": {
            "text/plain": [
              "0.9999994"
            ]
          },
          "metadata": {},
          "execution_count": 55
        }
      ]
    },
    {
      "cell_type": "code",
      "source": [
        "def predict_number(path):\n",
        "  img = cv2.imread(path, cv2.IMREAD_GRAYSCALE)\n",
        "  plt.imshow(img, cmap='gray')\n",
        "  plt.show()\n",
        "  img_scl = img.astype('float32')/255\n",
        "  probs = model.predict(np.array([img_scl]))\n",
        "  return pred, prob"
      ],
      "metadata": {
        "id": "u_oKdPEpu8Vx"
      },
      "execution_count": 56,
      "outputs": []
    },
    {
      "cell_type": "code",
      "source": [
        "predict_number('/content/example_img2.jpg')"
      ],
      "metadata": {
        "colab": {
          "base_uri": "https://localhost:8080/",
          "height": 465
        },
        "id": "sFRTBfk9wJ5b",
        "outputId": "3223a7f3-6d60-461e-f4e9-cd8d3cf98b3a"
      },
      "execution_count": 57,
      "outputs": [
        {
          "output_type": "display_data",
          "data": {
            "text/plain": [
              "<Figure size 640x480 with 1 Axes>"
            ],
            "image/png": "[encoded data removed]"
          },
          "metadata": {}
        },
        {
          "output_type": "stream",
          "name": "stdout",
          "text": [
            "1/1 [==============================] - 0s 62ms/step\n"
          ]
        },
        {
          "output_type": "execute_result",
          "data": {
            "text/plain": [
              "(2, 0.9999994)"
            ]
          },
          "metadata": {},
          "execution_count": 57
        }
      ]
    },
    {
      "cell_type": "code",
      "source": [
        "predict_number(\"/content/example_img3.jpg\")"
      ],
      "metadata": {
        "colab": {
          "base_uri": "https://localhost:8080/",
          "height": 465
        },
        "id": "tLaOwLB3wj0w",
        "outputId": "301e7191-bca4-4fa7-88e1-8d5b398626e1"
      },
      "execution_count": 58,
      "outputs": [
        {
          "output_type": "display_data",
          "data": {
            "text/plain": [
              "<Figure size 640x480 with 1 Axes>"
            ],
            "image/png": "[encoded data removed]"
          },
          "metadata": {}
        },
        {
          "output_type": "stream",
          "name": "stdout",
          "text": [
            "1/1 [==============================] - 0s 29ms/step\n"
          ]
        },
        {
          "output_type": "execute_result",
          "data": {
            "text/plain": [
              "(2, 0.9999994)"
            ]
          },
          "metadata": {},
          "execution_count": 58
        }
      ]
    },
    {
      "cell_type": "code",
      "source": [],
      "metadata": {
        "id": "VnP6CSkbw0zg"
      },
      "execution_count": null,
      "outputs": []
    }
  ]
}